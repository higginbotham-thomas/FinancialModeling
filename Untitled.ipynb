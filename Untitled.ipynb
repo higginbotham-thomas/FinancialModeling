{
 "cells": [
  {
   "cell_type": "code",
   "execution_count": null,
   "id": "fa469fa4-cb12-4691-9b19-46b58dba2881",
   "metadata": {},
   "outputs": [],
   "source": [
    "import os"
   ]
  },
  {
   "cell_type": "code",
   "execution_count": 6,
   "id": "6354e393-10ad-4473-b7ef-6b63a6fcc41c",
   "metadata": {},
   "outputs": [
    {
     "ename": "SyntaxError",
     "evalue": "invalid syntax (686743543.py, line 1)",
     "output_type": "error",
     "traceback": [
      "\u001b[0;36m  Input \u001b[0;32mIn [6]\u001b[0;36m\u001b[0m\n\u001b[0;31m    FMPKEY = ${{ secrets.FMPKEY }}\u001b[0m\n\u001b[0m             ^\u001b[0m\n\u001b[0;31mSyntaxError\u001b[0m\u001b[0;31m:\u001b[0m invalid syntax\n"
     ]
    }
   ],
   "source": [
    "env:\n",
    "    FMPKEY: ${{ secrets.FMPKEY }}\n",
    "\n",
    "FMPKEY = os.environ['FMPKEY']"
   ]
  },
  {
   "cell_type": "code",
   "execution_count": null,
   "id": "ab534940-46ac-40ba-a71d-bde4524c747c",
   "metadata": {},
   "outputs": [],
   "source": []
  }
 ],
 "metadata": {
  "kernelspec": {
   "display_name": "financialmodeling",
   "language": "python",
   "name": "financialmodeling"
  },
  "language_info": {
   "codemirror_mode": {
    "name": "ipython",
    "version": 3
   },
   "file_extension": ".py",
   "mimetype": "text/x-python",
   "name": "python",
   "nbconvert_exporter": "python",
   "pygments_lexer": "ipython3",
   "version": "3.9.13"
  }
 },
 "nbformat": 4,
 "nbformat_minor": 5
}
