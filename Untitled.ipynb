{
 "cells": [
  {
   "cell_type": "code",
   "execution_count": 16,
   "id": "fa469fa4-cb12-4691-9b19-46b58dba2881",
   "metadata": {},
   "outputs": [],
   "source": [
    "import os\n",
    "import config\n",
    "import functions\n",
    "from functions import get_jsonparsed_data"
   ]
  },
  {
   "cell_type": "code",
   "execution_count": 17,
   "id": "fff862e9-d6d6-44bf-b958-1da5f6fd6331",
   "metadata": {},
   "outputs": [],
   "source": [
    "#url = 'https://financialmodelingprep.com/api/v3/profile/AAPL?apikey='+config.FMPKEY\n",
    "url = 'https://financialmodelingprep.com/api/v3/income-statement/AAPL?limit=120&apikey='+config.FMPKEY"
   ]
  },
  {
   "cell_type": "code",
   "execution_count": 22,
   "id": "7024e0a2-9455-4981-91f1-678d6d35c3f2",
   "metadata": {},
   "outputs": [],
   "source": [
    "IncomeStatement_APPL = get_jsonparsed_data(url)"
   ]
  },
  {
   "cell_type": "code",
   "execution_count": 30,
   "id": "57a0aef5-361e-41c1-9dc3-1917192e6c56",
   "metadata": {},
   "outputs": [
    {
     "data": {
      "text/plain": [
       "108949000000"
      ]
     },
     "execution_count": 30,
     "metadata": {},
     "output_type": "execute_result"
    }
   ],
   "source": [
    "IncomeStatement_APPL[0]['operatingIncome']"
   ]
  },
  {
   "cell_type": "code",
   "execution_count": null,
   "id": "bfa501ce-8953-4148-bebd-a692f1f9ece9",
   "metadata": {},
   "outputs": [],
   "source": []
  }
 ],
 "metadata": {
  "kernelspec": {
   "display_name": "financialmodeling",
   "language": "python",
   "name": "financialmodeling"
  },
  "language_info": {
   "codemirror_mode": {
    "name": "ipython",
    "version": 3
   },
   "file_extension": ".py",
   "mimetype": "text/x-python",
   "name": "python",
   "nbconvert_exporter": "python",
   "pygments_lexer": "ipython3",
   "version": "3.9.13"
  }
 },
 "nbformat": 4,
 "nbformat_minor": 5
}
