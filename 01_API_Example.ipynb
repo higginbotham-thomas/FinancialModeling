{
 "cells": [
  {
   "cell_type": "code",
   "execution_count": 2,
   "id": "fa469fa4-cb12-4691-9b19-46b58dba2881",
   "metadata": {},
   "outputs": [],
   "source": [
    "import os\n",
    "import config\n",
    "import functions\n",
    "from functions import get_jsonparsed_data"
   ]
  },
  {
   "cell_type": "code",
   "execution_count": 6,
   "id": "fff862e9-d6d6-44bf-b958-1da5f6fd6331",
   "metadata": {},
   "outputs": [],
   "source": [
    "url = 'https://financialmodelingprep.com/api/v3/profile/AAPL?apikey='+config.FMPKEY"
   ]
  },
  {
   "cell_type": "code",
   "execution_count": 7,
   "id": "7024e0a2-9455-4981-91f1-678d6d35c3f2",
   "metadata": {},
   "outputs": [
    {
     "data": {
      "text/plain": [
       "[{'symbol': 'AAPL',\n",
       "  'price': 146.13,\n",
       "  'beta': 1.249815,\n",
       "  'volAvg': 81284857,\n",
       "  'mktCap': 2348426199040,\n",
       "  'lastDiv': 0.9,\n",
       "  'range': '129.04-182.94',\n",
       "  'changes': 2.7400055,\n",
       "  'companyName': 'Apple Inc.',\n",
       "  'currency': 'USD',\n",
       "  'cik': '0000320193',\n",
       "  'isin': 'US0378331005',\n",
       "  'cusip': '037833100',\n",
       "  'exchange': 'NASDAQ Global Select',\n",
       "  'exchangeShortName': 'NASDAQ',\n",
       "  'industry': 'Consumer Electronics',\n",
       "  'website': 'https://www.apple.com',\n",
       "  'description': 'Apple Inc. designs, manufactures, and markets smartphones, personal computers, tablets, wearables, and accessories worldwide. It also sells various related services. In addition, the company offers iPhone, a line of smartphones; Mac, a line of personal computers; iPad, a line of multi-purpose tablets; AirPods Max, an over-ear wireless headphone; and wearables, home, and accessories comprising AirPods, Apple TV, Apple Watch, Beats products, HomePod, and iPod touch. Further, it provides AppleCare support services; cloud services store services; and operates various platforms, including the App Store that allow customers to discover and download applications and digital content, such as books, music, video, games, and podcasts. Additionally, the company offers various services, such as Apple Arcade, a game subscription service; Apple Music, which offers users a curated listening experience with on-demand radio stations; Apple News+, a subscription news and magazine service; Apple TV+, which offers exclusive original content; Apple Card, a co-branded credit card; and Apple Pay, a cashless payment service, as well as licenses its intellectual property. The company serves consumers, and small and mid-sized businesses; and the education, enterprise, and government markets. It distributes third-party applications for its products through the App Store. The company also sells its products through its retail and online stores, and direct sales force; and third-party cellular network carriers, wholesalers, retailers, and resellers. Apple Inc. was incorporated in 1977 and is headquartered in Cupertino, California.',\n",
       "  'ceo': 'Mr. Timothy Cook',\n",
       "  'sector': 'Technology',\n",
       "  'country': 'US',\n",
       "  'fullTimeEmployees': '154000',\n",
       "  'phone': '14089961010',\n",
       "  'address': '1 Apple Park Way',\n",
       "  'city': 'Cupertino',\n",
       "  'state': 'CALIFORNIA',\n",
       "  'zip': '95014',\n",
       "  'dcfDiff': 2.07176,\n",
       "  'dcf': 145.462,\n",
       "  'image': 'https://financialmodelingprep.com/image-stock/AAPL.png',\n",
       "  'ipoDate': '1980-12-12',\n",
       "  'defaultImage': False,\n",
       "  'isEtf': False,\n",
       "  'isActivelyTrading': True,\n",
       "  'isAdr': False,\n",
       "  'isFund': False}]"
      ]
     },
     "execution_count": 7,
     "metadata": {},
     "output_type": "execute_result"
    }
   ],
   "source": [
    "get_jsonparsed_data(url)"
   ]
  },
  {
   "cell_type": "code",
   "execution_count": null,
   "id": "c73f0a09-1608-4216-9ec7-f20e2487f173",
   "metadata": {},
   "outputs": [],
   "source": []
  }
 ],
 "metadata": {
  "kernelspec": {
   "display_name": "Python 3.9.13 64-bit",
   "language": "python",
   "name": "python3"
  },
  "language_info": {
   "codemirror_mode": {
    "name": "ipython",
    "version": 3
   },
   "file_extension": ".py",
   "mimetype": "text/x-python",
   "name": "python",
   "nbconvert_exporter": "python",
   "pygments_lexer": "ipython3",
   "version": "3.9.13"
  },
  "vscode": {
   "interpreter": {
    "hash": "5ec90962e6ea3f61fef21431e159ef0a82ff115e0ca4d5696658479de99efb61"
   }
  }
 },
 "nbformat": 4,
 "nbformat_minor": 5
}
