{
 "cells": [
  {
   "cell_type": "code",
   "execution_count": 1,
   "id": "41b67cfa-be7a-40f5-a624-f1da8a5b055f",
   "metadata": {},
   "outputs": [],
   "source": [
    "import os\n",
    "import config\n",
    "import functions\n",
    "from functions import get_jsonparsed_data"
   ]
  },
  {
   "cell_type": "code",
   "execution_count": 2,
   "id": "25d8d9ba-15cb-451b-ad80-ea8d3e3ac9fa",
   "metadata": {},
   "outputs": [],
   "source": [
    "url = 'https://financialmodelingprep.com/api/v3/quote/AAPL?apikey='+config.FMPKEY"
   ]
  },
  {
   "cell_type": "code",
   "execution_count": 3,
   "id": "3917c0f8-49ed-4271-91eb-c1f0e91059e7",
   "metadata": {},
   "outputs": [],
   "source": [
    "Quote_APPL = get_jsonparsed_data(url)"
   ]
  },
  {
   "cell_type": "code",
   "execution_count": 4,
   "id": "df175e26-baf7-49c2-8dc6-bccb661e7591",
   "metadata": {},
   "outputs": [
    {
     "name": "stdout",
     "output_type": "stream",
     "text": [
      "[{'symbol': 'AAPL', 'name': 'Apple Inc.', 'price': 139.86, 'changesPercentage': -3.5647786, 'change': -5.169998, 'dayLow': 139.26, 'dayHigh': 142.795, 'yearHigh': 182.94, 'yearLow': 129.04, 'marketCap': 2224906829824.0, 'priceAvg50': 150.6542, 'priceAvg200': 156.4125, 'volume': 48688821, 'avgVolume': 84780507, 'exchange': 'NASDAQ', 'open': 142.06, 'previousClose': 145.03, 'eps': 6.11, 'pe': 22.890343, 'earningsAnnouncement': '2023-01-25T10:59:00.000+0000', 'sharesOutstanding': 15908099741, 'timestamp': 1667492012}]\n"
     ]
    }
   ],
   "source": [
    "print(Quote_APPL)"
   ]
  },
  {
   "cell_type": "code",
   "execution_count": 5,
   "id": "c3c6fac8-f8b0-4f83-b1e2-fac8fc7d6b1c",
   "metadata": {},
   "outputs": [
    {
     "data": {
      "text/plain": [
       "{'symbol': 'AAPL',\n",
       " 'name': 'Apple Inc.',\n",
       " 'price': 139.86,\n",
       " 'changesPercentage': -3.5647786,\n",
       " 'change': -5.169998,\n",
       " 'dayLow': 139.26,\n",
       " 'dayHigh': 142.795,\n",
       " 'yearHigh': 182.94,\n",
       " 'yearLow': 129.04,\n",
       " 'marketCap': 2224906829824.0,\n",
       " 'priceAvg50': 150.6542,\n",
       " 'priceAvg200': 156.4125,\n",
       " 'volume': 48688821,\n",
       " 'avgVolume': 84780507,\n",
       " 'exchange': 'NASDAQ',\n",
       " 'open': 142.06,\n",
       " 'previousClose': 145.03,\n",
       " 'eps': 6.11,\n",
       " 'pe': 22.890343,\n",
       " 'earningsAnnouncement': '2023-01-25T10:59:00.000+0000',\n",
       " 'sharesOutstanding': 15908099741,\n",
       " 'timestamp': 1667492012}"
      ]
     },
     "execution_count": 5,
     "metadata": {},
     "output_type": "execute_result"
    }
   ],
   "source": [
    "Quote_APPL[0]"
   ]
  },
  {
   "cell_type": "code",
   "execution_count": 6,
   "id": "b3c87382-0473-45f3-8f32-7f680b632522",
   "metadata": {},
   "outputs": [
    {
     "data": {
      "text/plain": [
       "139.26"
      ]
     },
     "execution_count": 6,
     "metadata": {},
     "output_type": "execute_result"
    }
   ],
   "source": [
    "Quote_APPL[0]['dayLow']"
   ]
  },
  {
   "cell_type": "code",
   "execution_count": null,
   "id": "8123316e-7559-4b7d-8950-87de12bd80f9",
   "metadata": {},
   "outputs": [],
   "source": []
  }
 ],
 "metadata": {
  "kernelspec": {
   "display_name": "Python 3.9.13 64-bit ('Anaconda3')",
   "language": "python",
   "name": "python3"
  },
  "language_info": {
   "codemirror_mode": {
    "name": "ipython",
    "version": 3
   },
   "file_extension": ".py",
   "mimetype": "text/x-python",
   "name": "python",
   "nbconvert_exporter": "python",
   "pygments_lexer": "ipython3",
   "version": "3.9.13"
  },
  "vscode": {
   "interpreter": {
    "hash": "5ec90962e6ea3f61fef21431e159ef0a82ff115e0ca4d5696658479de99efb61"
   }
  }
 },
 "nbformat": 4,
 "nbformat_minor": 5
}
