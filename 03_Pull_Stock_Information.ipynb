{
 "cells": [
  {
   "cell_type": "code",
   "execution_count": 12,
   "id": "41b67cfa-be7a-40f5-a624-f1da8a5b055f",
   "metadata": {},
   "outputs": [],
   "source": [
    "import os\n",
    "import config\n",
    "import functions\n",
    "from functions import get_jsonparsed_data"
   ]
  },
  {
   "cell_type": "code",
   "execution_count": 13,
   "id": "25d8d9ba-15cb-451b-ad80-ea8d3e3ac9fa",
   "metadata": {},
   "outputs": [],
   "source": [
    "url = 'https://financialmodelingprep.com/api/v3/quote/AAPL?apikey='+config.FMPKEY"
   ]
  },
  {
   "cell_type": "code",
   "execution_count": 14,
   "id": "3917c0f8-49ed-4271-91eb-c1f0e91059e7",
   "metadata": {},
   "outputs": [],
   "source": [
    "Quote_APPL = get_jsonparsed_data(url)"
   ]
  },
  {
   "cell_type": "code",
   "execution_count": 15,
   "id": "df175e26-baf7-49c2-8dc6-bccb661e7591",
   "metadata": {},
   "outputs": [
    {
     "name": "stdout",
     "output_type": "stream",
     "text": [
      "[{'symbol': 'AAPL', 'name': 'Apple Inc.', 'price': 146.258, 'changesPercentage': 2.0001369, 'change': 2.8679962, 'dayLow': 142.649, 'dayHigh': 146.285, 'yearHigh': 182.94, 'yearLow': 129.04, 'marketCap': 2350482980864.0, 'priceAvg50': 154.5314, 'priceAvg200': 157.4574, 'volume': 54291338, 'avgVolume': 81284857, 'exchange': 'NASDAQ', 'open': 142.87, 'previousClose': 143.39, 'eps': 6.05, 'pe': 24.174875, 'earningsAnnouncement': '2022-10-26T20:00:00.000+0000', 'sharesOutstanding': 16070799415, 'timestamp': 1666375244}]\n"
     ]
    }
   ],
   "source": [
    "print(Quote_APPL)"
   ]
  },
  {
   "cell_type": "code",
   "execution_count": 16,
   "id": "c3c6fac8-f8b0-4f83-b1e2-fac8fc7d6b1c",
   "metadata": {},
   "outputs": [
    {
     "data": {
      "text/plain": [
       "{'symbol': 'AAPL',\n",
       " 'name': 'Apple Inc.',\n",
       " 'price': 146.258,\n",
       " 'changesPercentage': 2.0001369,\n",
       " 'change': 2.8679962,\n",
       " 'dayLow': 142.649,\n",
       " 'dayHigh': 146.285,\n",
       " 'yearHigh': 182.94,\n",
       " 'yearLow': 129.04,\n",
       " 'marketCap': 2350482980864.0,\n",
       " 'priceAvg50': 154.5314,\n",
       " 'priceAvg200': 157.4574,\n",
       " 'volume': 54291338,\n",
       " 'avgVolume': 81284857,\n",
       " 'exchange': 'NASDAQ',\n",
       " 'open': 142.87,\n",
       " 'previousClose': 143.39,\n",
       " 'eps': 6.05,\n",
       " 'pe': 24.174875,\n",
       " 'earningsAnnouncement': '2022-10-26T20:00:00.000+0000',\n",
       " 'sharesOutstanding': 16070799415,\n",
       " 'timestamp': 1666375244}"
      ]
     },
     "execution_count": 16,
     "metadata": {},
     "output_type": "execute_result"
    }
   ],
   "source": [
    "Quote_APPL[0]"
   ]
  },
  {
   "cell_type": "code",
   "execution_count": 17,
   "id": "b3c87382-0473-45f3-8f32-7f680b632522",
   "metadata": {},
   "outputs": [
    {
     "data": {
      "text/plain": [
       "142.649"
      ]
     },
     "execution_count": 17,
     "metadata": {},
     "output_type": "execute_result"
    }
   ],
   "source": [
    "Quote_APPL[0]['dayLow']"
   ]
  },
  {
   "cell_type": "code",
   "execution_count": null,
   "id": "8123316e-7559-4b7d-8950-87de12bd80f9",
   "metadata": {},
   "outputs": [],
   "source": []
  }
 ],
 "metadata": {
  "kernelspec": {
   "display_name": "financialmodelingkernel",
   "language": "python",
   "name": "financialmodelingkernel"
  },
  "language_info": {
   "codemirror_mode": {
    "name": "ipython",
    "version": 3
   },
   "file_extension": ".py",
   "mimetype": "text/x-python",
   "name": "python",
   "nbconvert_exporter": "python",
   "pygments_lexer": "ipython3",
   "version": "3.9.13"
  }
 },
 "nbformat": 4,
 "nbformat_minor": 5
}
