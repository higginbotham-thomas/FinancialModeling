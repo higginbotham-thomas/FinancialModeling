{
 "cells": [
  {
   "cell_type": "code",
   "execution_count": 9,
   "id": "41b67cfa-be7a-40f5-a624-f1da8a5b055f",
   "metadata": {},
   "outputs": [],
   "source": [
    "import os\n",
    "import config\n",
    "import functions\n",
    "from functions import get_jsonparsed_data"
   ]
  },
  {
   "cell_type": "code",
   "execution_count": 10,
   "id": "25d8d9ba-15cb-451b-ad80-ea8d3e3ac9fa",
   "metadata": {},
   "outputs": [],
   "source": [
    "url = 'https://financialmodelingprep.com/api/v3/income-statement/AAPL?limit=120&apikey='+config.FMPKEY"
   ]
  },
  {
   "cell_type": "code",
   "execution_count": 11,
   "id": "3917c0f8-49ed-4271-91eb-c1f0e91059e7",
   "metadata": {},
   "outputs": [],
   "source": [
    "IncomeStatement_APPL = get_jsonparsed_data(url)"
   ]
  },
  {
   "cell_type": "code",
   "execution_count": 12,
   "id": "df175e26-baf7-49c2-8dc6-bccb661e7591",
   "metadata": {},
   "outputs": [
    {
     "name": "stdout",
     "output_type": "stream",
     "text": [
      "[{'date': '2022-09-24', 'symbol': 'AAPL', 'reportedCurrency': 'USD', 'cik': '0000320193', 'fillingDate': '2022-10-28', 'acceptedDate': '2022-10-27 18:01:14', 'calendarYear': '2022', 'period': 'FY', 'revenue': 394328000000, 'costOfRevenue': 223546000000, 'grossProfit': 170782000000, 'grossProfitRatio': 0.43309630561360085, 'researchAndDevelopmentExpenses': 26251000000, 'generalAndAdministrativeExpenses': 0.0, 'sellingAndMarketingExpenses': 0.0, 'sellingGeneralAndAdministrativeExpenses': 25094000000, 'otherExpenses': 0.0, 'operatingExpenses': 51345000000, 'costAndExpenses': 274891000000, 'interestIncome': 0.0, 'interestExpense': 0.0, 'depreciationAndAmortization': 11104000000, 'ebitda': 130207000000, 'ebitdaratio': 0.3301997322026333, 'operatingIncome': 119437000000, 'operatingIncomeRatio': 0.30288744395528594, 'totalOtherIncomeExpensesNet': -334000000, 'incomeBeforeTax': 119103000000, 'incomeBeforeTaxRatio': 0.30204043334482966, 'incomeTaxExpense': 19300000000, 'netIncome': 99803000000, 'netIncomeRatio': 0.2530964070519973, 'eps': 6.15, 'epsdiluted': 6.11, 'weightedAverageShsOut': 16215963000, 'weightedAverageShsOutDil': 16325819000, 'link': 'https://www.sec.gov/Archives/edgar/data/320193/000032019322000108/0000320193-22-000108-index.htm', 'finalLink': 'https://www.sec.gov/Archives/edgar/data/320193/000032019322000108/aapl-20220924.htm'}, {'date': '2021-09-25', 'symbol': 'AAPL', 'reportedCurrency': 'USD', 'cik': '0000320193', 'fillingDate': '2021-10-29', 'acceptedDate': '2021-10-28 18:04:28', 'calendarYear': '2021', 'period': 'FY', 'revenue': 365817000000, 'costOfRevenue': 212981000000, 'grossProfit': 152836000000, 'grossProfitRatio': 0.4177935962516778, 'researchAndDevelopmentExpenses': 21914000000, 'generalAndAdministrativeExpenses': 0.0, 'sellingAndMarketingExpenses': 0.0, 'sellingGeneralAndAdministrativeExpenses': 21973000000, 'otherExpenses': 0.0, 'operatingExpenses': 43887000000, 'costAndExpenses': 256868000000, 'interestIncome': 2843000000, 'interestExpense': 2645000000, 'depreciationAndAmortization': 11284000000, 'ebitda': 123136000000, 'ebitdaratio': 0.33660546120054563, 'operatingIncome': 108949000000, 'operatingIncomeRatio': 0.29782377527561593, 'totalOtherIncomeExpensesNet': 258000000, 'incomeBeforeTax': 109207000000, 'incomeBeforeTaxRatio': 0.2985290459437369, 'incomeTaxExpense': 14527000000, 'netIncome': 94680000000, 'netIncomeRatio': 0.2588179335569424, 'eps': 5.67, 'epsdiluted': 5.61, 'weightedAverageShsOut': 16701272000, 'weightedAverageShsOutDil': 16864919000, 'link': 'https://www.sec.gov/Archives/edgar/data/320193/000032019321000105/0000320193-21-000105-index.htm', 'finalLink': 'https://www.sec.gov/Archives/edgar/data/320193/000032019321000105/aapl-20210925.htm'}, {'date': '2020-09-26', 'symbol': 'AAPL', 'reportedCurrency': 'USD', 'cik': '0000320193', 'fillingDate': '2020-10-30', 'acceptedDate': '2020-10-29 18:06:25', 'calendarYear': '2020', 'period': 'FY', 'revenue': 274515000000, 'costOfRevenue': 169559000000, 'grossProfit': 104956000000, 'grossProfitRatio': 0.38233247727810865, 'researchAndDevelopmentExpenses': 18752000000, 'generalAndAdministrativeExpenses': 0.0, 'sellingAndMarketingExpenses': 0.0, 'sellingGeneralAndAdministrativeExpenses': 19916000000, 'otherExpenses': 0.0, 'operatingExpenses': 38668000000, 'costAndExpenses': 208227000000, 'interestIncome': 3763000000, 'interestExpense': 2873000000, 'depreciationAndAmortization': 11056000000, 'ebitda': 81020000000, 'ebitdaratio': 0.2951386991603373, 'operatingIncome': 66288000000, 'operatingIncomeRatio': 0.24147314354406862, 'totalOtherIncomeExpensesNet': 803000000, 'incomeBeforeTax': 67091000000, 'incomeBeforeTaxRatio': 0.24439830246070343, 'incomeTaxExpense': 9680000000, 'netIncome': 57411000000, 'netIncomeRatio': 0.20913611278072236, 'eps': 3.31, 'epsdiluted': 3.28, 'weightedAverageShsOut': 17352119000, 'weightedAverageShsOutDil': 17528214000, 'link': 'https://www.sec.gov/Archives/edgar/data/320193/000032019320000096/0000320193-20-000096-index.htm', 'finalLink': 'https://www.sec.gov/Archives/edgar/data/320193/000032019320000096/aapl-20200926.htm'}, {'date': '2019-09-28', 'symbol': 'AAPL', 'reportedCurrency': 'USD', 'cik': '0000320193', 'fillingDate': '2019-10-31', 'acceptedDate': '2019-10-30 18:12:36', 'calendarYear': '2019', 'period': 'FY', 'revenue': 260174000000, 'costOfRevenue': 161782000000, 'grossProfit': 98392000000, 'grossProfitRatio': 0.3781776810903472, 'researchAndDevelopmentExpenses': 16217000000, 'generalAndAdministrativeExpenses': 0.0, 'sellingAndMarketingExpenses': 0.0, 'sellingGeneralAndAdministrativeExpenses': 18245000000, 'otherExpenses': 0.0, 'operatingExpenses': 34462000000, 'costAndExpenses': 196244000000, 'interestIncome': 4961000000, 'interestExpense': 3576000000, 'depreciationAndAmortization': 12547000000, 'ebitda': 81860000000, 'ebitdaratio': 0.3146355900282119, 'operatingIncome': 63930000000, 'operatingIncomeRatio': 0.24572017188496928, 'totalOtherIncomeExpensesNet': 1807000000, 'incomeBeforeTax': 65737000000, 'incomeBeforeTaxRatio': 0.2526655238417367, 'incomeTaxExpense': 10481000000, 'netIncome': 55256000000, 'netIncomeRatio': 0.21238094505984456, 'eps': 2.9925, 'epsdiluted': 2.9725, 'weightedAverageShsOut': 18471336000, 'weightedAverageShsOutDil': 18595652000, 'link': 'https://www.sec.gov/Archives/edgar/data/320193/000032019319000119/0000320193-19-000119-index.html', 'finalLink': 'https://www.sec.gov/Archives/edgar/data/320193/000032019319000119/a10-k20199282019.htm'}, {'date': '2018-09-29', 'symbol': 'AAPL', 'reportedCurrency': 'USD', 'cik': '0000320193', 'fillingDate': '2018-11-05', 'acceptedDate': '2018-11-05 08:01:40', 'calendarYear': '2018', 'period': 'FY', 'revenue': 265595000000, 'costOfRevenue': 163756000000, 'grossProfit': 101839000000, 'grossProfitRatio': 0.38343718820007905, 'researchAndDevelopmentExpenses': 14236000000, 'generalAndAdministrativeExpenses': 0.0, 'sellingAndMarketingExpenses': 0.0, 'sellingGeneralAndAdministrativeExpenses': 16705000000, 'otherExpenses': 0.0, 'operatingExpenses': 30941000000, 'costAndExpenses': 194697000000, 'interestIncome': 5686000000, 'interestExpense': 3240000000, 'depreciationAndAmortization': 10903000000, 'ebitda': 87046000000, 'ebitdaratio': 0.327739603531693, 'operatingIncome': 70898000000, 'operatingIncomeRatio': 0.26694026619477024, 'totalOtherIncomeExpensesNet': 2005000000, 'incomeBeforeTax': 72903000000, 'incomeBeforeTaxRatio': 0.27448935409175623, 'incomeTaxExpense': 13372000000, 'netIncome': 59531000000, 'netIncomeRatio': 0.22414202074587247, 'eps': 3.0025, 'epsdiluted': 2.9775, 'weightedAverageShsOut': 19821508000, 'weightedAverageShsOutDil': 20000436000, 'link': 'https://www.sec.gov/Archives/edgar/data/320193/000032019318000145/0000320193-18-000145-index.html', 'finalLink': 'https://www.sec.gov/Archives/edgar/data/320193/000032019318000145/a10-k20189292018.htm'}]\n"
     ]
    }
   ],
   "source": [
    "print(IncomeStatement_APPL)"
   ]
  },
  {
   "cell_type": "code",
   "execution_count": 13,
   "id": "c3c6fac8-f8b0-4f83-b1e2-fac8fc7d6b1c",
   "metadata": {},
   "outputs": [
    {
     "data": {
      "text/plain": [
       "{'date': '2022-09-24',\n",
       " 'symbol': 'AAPL',\n",
       " 'reportedCurrency': 'USD',\n",
       " 'cik': '0000320193',\n",
       " 'fillingDate': '2022-10-28',\n",
       " 'acceptedDate': '2022-10-27 18:01:14',\n",
       " 'calendarYear': '2022',\n",
       " 'period': 'FY',\n",
       " 'revenue': 394328000000,\n",
       " 'costOfRevenue': 223546000000,\n",
       " 'grossProfit': 170782000000,\n",
       " 'grossProfitRatio': 0.43309630561360085,\n",
       " 'researchAndDevelopmentExpenses': 26251000000,\n",
       " 'generalAndAdministrativeExpenses': 0.0,\n",
       " 'sellingAndMarketingExpenses': 0.0,\n",
       " 'sellingGeneralAndAdministrativeExpenses': 25094000000,\n",
       " 'otherExpenses': 0.0,\n",
       " 'operatingExpenses': 51345000000,\n",
       " 'costAndExpenses': 274891000000,\n",
       " 'interestIncome': 0.0,\n",
       " 'interestExpense': 0.0,\n",
       " 'depreciationAndAmortization': 11104000000,\n",
       " 'ebitda': 130207000000,\n",
       " 'ebitdaratio': 0.3301997322026333,\n",
       " 'operatingIncome': 119437000000,\n",
       " 'operatingIncomeRatio': 0.30288744395528594,\n",
       " 'totalOtherIncomeExpensesNet': -334000000,\n",
       " 'incomeBeforeTax': 119103000000,\n",
       " 'incomeBeforeTaxRatio': 0.30204043334482966,\n",
       " 'incomeTaxExpense': 19300000000,\n",
       " 'netIncome': 99803000000,\n",
       " 'netIncomeRatio': 0.2530964070519973,\n",
       " 'eps': 6.15,\n",
       " 'epsdiluted': 6.11,\n",
       " 'weightedAverageShsOut': 16215963000,\n",
       " 'weightedAverageShsOutDil': 16325819000,\n",
       " 'link': 'https://www.sec.gov/Archives/edgar/data/320193/000032019322000108/0000320193-22-000108-index.htm',\n",
       " 'finalLink': 'https://www.sec.gov/Archives/edgar/data/320193/000032019322000108/aapl-20220924.htm'}"
      ]
     },
     "execution_count": 13,
     "metadata": {},
     "output_type": "execute_result"
    }
   ],
   "source": [
    "IncomeStatement_APPL[0]"
   ]
  },
  {
   "cell_type": "code",
   "execution_count": 14,
   "id": "b3c87382-0473-45f3-8f32-7f680b632522",
   "metadata": {},
   "outputs": [
    {
     "data": {
      "text/plain": [
       "119437000000"
      ]
     },
     "execution_count": 14,
     "metadata": {},
     "output_type": "execute_result"
    }
   ],
   "source": [
    "IncomeStatement_APPL[0]['operatingIncome']"
   ]
  },
  {
   "cell_type": "code",
   "execution_count": 15,
   "id": "b437f2d4-a490-496b-8ecc-9823d7b47d83",
   "metadata": {},
   "outputs": [
    {
     "data": {
      "text/plain": [
       "[0.2530964070519973,\n",
       " 0.2588179335569424,\n",
       " 0.20913611278072236,\n",
       " 0.21238094505984456,\n",
       " 0.22414202074587247]"
      ]
     },
     "execution_count": 15,
     "metadata": {},
     "output_type": "execute_result"
    }
   ],
   "source": [
    "netIncomeRatios_APPL = []\n",
    "for i in range (0,5):\n",
    "    netIncomeRatios_APPL.append(IncomeStatement_APPL[i]['netIncomeRatio'])\n",
    "netIncomeRatios_APPL"
   ]
  },
  {
   "cell_type": "code",
   "execution_count": null,
   "id": "8123316e-7559-4b7d-8950-87de12bd80f9",
   "metadata": {},
   "outputs": [],
   "source": []
  }
 ],
 "metadata": {
  "kernelspec": {
   "display_name": "Python 3.9.13 64-bit",
   "language": "python",
   "name": "python3"
  },
  "language_info": {
   "codemirror_mode": {
    "name": "ipython",
    "version": 3
   },
   "file_extension": ".py",
   "mimetype": "text/x-python",
   "name": "python",
   "nbconvert_exporter": "python",
   "pygments_lexer": "ipython3",
   "version": "3.9.13"
  },
  "vscode": {
   "interpreter": {
    "hash": "5ec90962e6ea3f61fef21431e159ef0a82ff115e0ca4d5696658479de99efb61"
   }
  }
 },
 "nbformat": 4,
 "nbformat_minor": 5
}
