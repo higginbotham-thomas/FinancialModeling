{
 "cells": [
  {
   "cell_type": "code",
   "execution_count": 3,
   "id": "41b67cfa-be7a-40f5-a624-f1da8a5b055f",
   "metadata": {},
   "outputs": [],
   "source": [
    "import os\n",
    "import config\n",
    "import functions\n",
    "from functions import get_jsonparsed_data"
   ]
  },
  {
   "cell_type": "code",
   "execution_count": 4,
   "id": "25d8d9ba-15cb-451b-ad80-ea8d3e3ac9fa",
   "metadata": {},
   "outputs": [],
   "source": [
    "url = 'https://financialmodelingprep.com/api/v3/income-statement/AAPL?limit=120&apikey='+config.FMPKEY"
   ]
  },
  {
   "cell_type": "code",
   "execution_count": 5,
   "id": "3917c0f8-49ed-4271-91eb-c1f0e91059e7",
   "metadata": {},
   "outputs": [],
   "source": [
    "IncomeStatement_APPL = get_jsonparsed_data(url)"
   ]
  },
  {
   "cell_type": "code",
   "execution_count": 7,
   "id": "df175e26-baf7-49c2-8dc6-bccb661e7591",
   "metadata": {},
   "outputs": [
    {
     "name": "stdout",
     "output_type": "stream",
     "text": [
      "[{'date': '2021-09-25', 'symbol': 'AAPL', 'reportedCurrency': 'USD', 'cik': '0000320193', 'fillingDate': '2021-10-29', 'acceptedDate': '2021-10-28 18:04:28', 'calendarYear': '2021', 'period': 'FY', 'revenue': 365817000000, 'costOfRevenue': 212981000000, 'grossProfit': 152836000000, 'grossProfitRatio': 0.4177935962516778, 'researchAndDevelopmentExpenses': 21914000000, 'generalAndAdministrativeExpenses': 0.0, 'sellingAndMarketingExpenses': 0.0, 'sellingGeneralAndAdministrativeExpenses': 21973000000, 'otherExpenses': 0.0, 'operatingExpenses': 43887000000, 'costAndExpenses': 256868000000, 'interestIncome': 2843000000, 'interestExpense': 2645000000, 'depreciationAndAmortization': 11284000000, 'ebitda': 123136000000, 'ebitdaratio': 0.33660546120054563, 'operatingIncome': 108949000000, 'operatingIncomeRatio': 0.29782377527561593, 'totalOtherIncomeExpensesNet': 258000000, 'incomeBeforeTax': 109207000000, 'incomeBeforeTaxRatio': 0.2985290459437369, 'incomeTaxExpense': 14527000000, 'netIncome': 94680000000, 'netIncomeRatio': 0.2588179335569424, 'eps': 5.67, 'epsdiluted': 5.61, 'weightedAverageShsOut': 16701272000, 'weightedAverageShsOutDil': 16864919000, 'link': 'https://www.sec.gov/Archives/edgar/data/320193/000032019321000105/0000320193-21-000105-index.htm', 'finalLink': 'https://www.sec.gov/Archives/edgar/data/320193/000032019321000105/aapl-20210925.htm'}, {'date': '2020-09-26', 'symbol': 'AAPL', 'reportedCurrency': 'USD', 'cik': '0000320193', 'fillingDate': '2020-10-30', 'acceptedDate': '2020-10-29 18:06:25', 'calendarYear': '2020', 'period': 'FY', 'revenue': 274515000000, 'costOfRevenue': 169559000000, 'grossProfit': 104956000000, 'grossProfitRatio': 0.38233247727810865, 'researchAndDevelopmentExpenses': 18752000000, 'generalAndAdministrativeExpenses': 0.0, 'sellingAndMarketingExpenses': 0.0, 'sellingGeneralAndAdministrativeExpenses': 19916000000, 'otherExpenses': 0.0, 'operatingExpenses': 38668000000, 'costAndExpenses': 208227000000, 'interestIncome': 3763000000, 'interestExpense': 2873000000, 'depreciationAndAmortization': 11056000000, 'ebitda': 81020000000, 'ebitdaratio': 0.2951386991603373, 'operatingIncome': 66288000000, 'operatingIncomeRatio': 0.24147314354406862, 'totalOtherIncomeExpensesNet': 803000000, 'incomeBeforeTax': 67091000000, 'incomeBeforeTaxRatio': 0.24439830246070343, 'incomeTaxExpense': 9680000000, 'netIncome': 57411000000, 'netIncomeRatio': 0.20913611278072236, 'eps': 3.31, 'epsdiluted': 3.28, 'weightedAverageShsOut': 17352119000, 'weightedAverageShsOutDil': 17528214000, 'link': 'https://www.sec.gov/Archives/edgar/data/320193/000032019320000096/0000320193-20-000096-index.htm', 'finalLink': 'https://www.sec.gov/Archives/edgar/data/320193/000032019320000096/aapl-20200926.htm'}, {'date': '2019-09-28', 'symbol': 'AAPL', 'reportedCurrency': 'USD', 'cik': '0000320193', 'fillingDate': '2019-10-31', 'acceptedDate': '2019-10-30 18:12:36', 'calendarYear': '2019', 'period': 'FY', 'revenue': 260174000000, 'costOfRevenue': 161782000000, 'grossProfit': 98392000000, 'grossProfitRatio': 0.3781776810903472, 'researchAndDevelopmentExpenses': 16217000000, 'generalAndAdministrativeExpenses': 0.0, 'sellingAndMarketingExpenses': 0.0, 'sellingGeneralAndAdministrativeExpenses': 18245000000, 'otherExpenses': 0.0, 'operatingExpenses': 34462000000, 'costAndExpenses': 196244000000, 'interestIncome': 4961000000, 'interestExpense': 3576000000, 'depreciationAndAmortization': 12547000000, 'ebitda': 81860000000, 'ebitdaratio': 0.3146355900282119, 'operatingIncome': 63930000000, 'operatingIncomeRatio': 0.24572017188496928, 'totalOtherIncomeExpensesNet': 1807000000, 'incomeBeforeTax': 65737000000, 'incomeBeforeTaxRatio': 0.2526655238417367, 'incomeTaxExpense': 10481000000, 'netIncome': 55256000000, 'netIncomeRatio': 0.21238094505984456, 'eps': 2.9925, 'epsdiluted': 2.9725, 'weightedAverageShsOut': 18471336000, 'weightedAverageShsOutDil': 18595652000, 'link': 'https://www.sec.gov/Archives/edgar/data/320193/000032019319000119/0000320193-19-000119-index.html', 'finalLink': 'https://www.sec.gov/Archives/edgar/data/320193/000032019319000119/a10-k20199282019.htm'}, {'date': '2018-09-29', 'symbol': 'AAPL', 'reportedCurrency': 'USD', 'cik': '0000320193', 'fillingDate': '2018-11-05', 'acceptedDate': '2018-11-05 08:01:40', 'calendarYear': '2018', 'period': 'FY', 'revenue': 265595000000, 'costOfRevenue': 163756000000, 'grossProfit': 101839000000, 'grossProfitRatio': 0.38343718820007905, 'researchAndDevelopmentExpenses': 14236000000, 'generalAndAdministrativeExpenses': 0.0, 'sellingAndMarketingExpenses': 0.0, 'sellingGeneralAndAdministrativeExpenses': 16705000000, 'otherExpenses': 0.0, 'operatingExpenses': 30941000000, 'costAndExpenses': 194697000000, 'interestIncome': 5686000000, 'interestExpense': 3240000000, 'depreciationAndAmortization': 10903000000, 'ebitda': 87046000000, 'ebitdaratio': 0.327739603531693, 'operatingIncome': 70898000000, 'operatingIncomeRatio': 0.26694026619477024, 'totalOtherIncomeExpensesNet': 2005000000, 'incomeBeforeTax': 72903000000, 'incomeBeforeTaxRatio': 0.27448935409175623, 'incomeTaxExpense': 13372000000, 'netIncome': 59531000000, 'netIncomeRatio': 0.22414202074587247, 'eps': 3.0025, 'epsdiluted': 2.9775, 'weightedAverageShsOut': 19821508000, 'weightedAverageShsOutDil': 20000436000, 'link': 'https://www.sec.gov/Archives/edgar/data/320193/000032019318000145/0000320193-18-000145-index.html', 'finalLink': 'https://www.sec.gov/Archives/edgar/data/320193/000032019318000145/a10-k20189292018.htm'}, {'date': '2017-09-30', 'symbol': 'AAPL', 'reportedCurrency': 'USD', 'cik': '0000320193', 'fillingDate': '2017-11-03', 'acceptedDate': '2017-11-03 08:01:37', 'calendarYear': '2017', 'period': 'FY', 'revenue': 229234000000, 'costOfRevenue': 141048000000, 'grossProfit': 88186000000, 'grossProfitRatio': 0.38469860491899105, 'researchAndDevelopmentExpenses': 11581000000, 'generalAndAdministrativeExpenses': 0.0, 'sellingAndMarketingExpenses': 0.0, 'sellingGeneralAndAdministrativeExpenses': 15261000000, 'otherExpenses': 0.0, 'operatingExpenses': 26842000000, 'costAndExpenses': 167890000000, 'interestIncome': 5201000000, 'interestExpense': 2323000000, 'depreciationAndAmortization': 10157000000, 'ebitda': 76569000000, 'ebitdaratio': 0.33402113124580124, 'operatingIncome': 61344000000, 'operatingIncomeRatio': 0.2676042820872994, 'totalOtherIncomeExpensesNet': 2745000000, 'incomeBeforeTax': 64089000000, 'incomeBeforeTaxRatio': 0.27957894553164014, 'incomeTaxExpense': 15738000000, 'netIncome': 48351000000, 'netIncomeRatio': 0.21092420845075338, 'eps': 2.3175, 'epsdiluted': 2.3025, 'weightedAverageShsOut': 20868968000, 'weightedAverageShsOutDil': 21006768000, 'link': 'https://www.sec.gov/Archives/edgar/data/320193/000032019317000070/0000320193-17-000070-index.html', 'finalLink': 'https://www.sec.gov/Archives/edgar/data/320193/000032019317000070/a10-k20179302017.htm'}]\n"
     ]
    }
   ],
   "source": [
    "print(IncomeStatement_APPL)"
   ]
  },
  {
   "cell_type": "code",
   "execution_count": 8,
   "id": "c3c6fac8-f8b0-4f83-b1e2-fac8fc7d6b1c",
   "metadata": {},
   "outputs": [
    {
     "data": {
      "text/plain": [
       "{'date': '2021-09-25',\n",
       " 'symbol': 'AAPL',\n",
       " 'reportedCurrency': 'USD',\n",
       " 'cik': '0000320193',\n",
       " 'fillingDate': '2021-10-29',\n",
       " 'acceptedDate': '2021-10-28 18:04:28',\n",
       " 'calendarYear': '2021',\n",
       " 'period': 'FY',\n",
       " 'revenue': 365817000000,\n",
       " 'costOfRevenue': 212981000000,\n",
       " 'grossProfit': 152836000000,\n",
       " 'grossProfitRatio': 0.4177935962516778,\n",
       " 'researchAndDevelopmentExpenses': 21914000000,\n",
       " 'generalAndAdministrativeExpenses': 0.0,\n",
       " 'sellingAndMarketingExpenses': 0.0,\n",
       " 'sellingGeneralAndAdministrativeExpenses': 21973000000,\n",
       " 'otherExpenses': 0.0,\n",
       " 'operatingExpenses': 43887000000,\n",
       " 'costAndExpenses': 256868000000,\n",
       " 'interestIncome': 2843000000,\n",
       " 'interestExpense': 2645000000,\n",
       " 'depreciationAndAmortization': 11284000000,\n",
       " 'ebitda': 123136000000,\n",
       " 'ebitdaratio': 0.33660546120054563,\n",
       " 'operatingIncome': 108949000000,\n",
       " 'operatingIncomeRatio': 0.29782377527561593,\n",
       " 'totalOtherIncomeExpensesNet': 258000000,\n",
       " 'incomeBeforeTax': 109207000000,\n",
       " 'incomeBeforeTaxRatio': 0.2985290459437369,\n",
       " 'incomeTaxExpense': 14527000000,\n",
       " 'netIncome': 94680000000,\n",
       " 'netIncomeRatio': 0.2588179335569424,\n",
       " 'eps': 5.67,\n",
       " 'epsdiluted': 5.61,\n",
       " 'weightedAverageShsOut': 16701272000,\n",
       " 'weightedAverageShsOutDil': 16864919000,\n",
       " 'link': 'https://www.sec.gov/Archives/edgar/data/320193/000032019321000105/0000320193-21-000105-index.htm',\n",
       " 'finalLink': 'https://www.sec.gov/Archives/edgar/data/320193/000032019321000105/aapl-20210925.htm'}"
      ]
     },
     "execution_count": 8,
     "metadata": {},
     "output_type": "execute_result"
    }
   ],
   "source": [
    "IncomeStatement_APPL[0]"
   ]
  },
  {
   "cell_type": "code",
   "execution_count": 6,
   "id": "b3c87382-0473-45f3-8f32-7f680b632522",
   "metadata": {},
   "outputs": [
    {
     "data": {
      "text/plain": [
       "108949000000"
      ]
     },
     "execution_count": 6,
     "metadata": {},
     "output_type": "execute_result"
    }
   ],
   "source": [
    "IncomeStatement_APPL[0]['operatingIncome']"
   ]
  },
  {
   "cell_type": "code",
   "execution_count": 11,
   "id": "b437f2d4-a490-496b-8ecc-9823d7b47d83",
   "metadata": {},
   "outputs": [
    {
     "data": {
      "text/plain": [
       "[0.2588179335569424,\n",
       " 0.20913611278072236,\n",
       " 0.21238094505984456,\n",
       " 0.22414202074587247,\n",
       " 0.21092420845075338]"
      ]
     },
     "execution_count": 11,
     "metadata": {},
     "output_type": "execute_result"
    }
   ],
   "source": [
    "netIncomeRatios_APPL = []\n",
    "for i in range (0,5):\n",
    "    netIncomeRatios_APPL.append(IncomeStatement_APPL[i]['netIncomeRatio'])\n",
    "netIncomeRatios_APPL"
   ]
  },
  {
   "cell_type": "code",
   "execution_count": null,
   "id": "8123316e-7559-4b7d-8950-87de12bd80f9",
   "metadata": {},
   "outputs": [],
   "source": []
  }
 ],
 "metadata": {
  "kernelspec": {
   "display_name": "financialmodelingkernel",
   "language": "python",
   "name": "financialmodelingkernel"
  },
  "language_info": {
   "codemirror_mode": {
    "name": "ipython",
    "version": 3
   },
   "file_extension": ".py",
   "mimetype": "text/x-python",
   "name": "python",
   "nbconvert_exporter": "python",
   "pygments_lexer": "ipython3",
   "version": "3.9.13"
  }
 },
 "nbformat": 4,
 "nbformat_minor": 5
}
